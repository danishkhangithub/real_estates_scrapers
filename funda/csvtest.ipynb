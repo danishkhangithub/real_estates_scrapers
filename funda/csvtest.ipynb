{
 "cells": [
  {
   "cell_type": "code",
   "execution_count": 1,
   "id": "rough-monaco",
   "metadata": {},
   "outputs": [],
   "source": [
    "import pandas as pd\n",
    "import os\n",
    "import numpy as np"
   ]
  },
  {
   "cell_type": "code",
   "execution_count": 7,
   "id": "mexican-pathology",
   "metadata": {},
   "outputs": [
    {
     "ename": "FileNotFoundError",
     "evalue": "[Errno 2] No such file or directory: 'funda.csv'",
     "output_type": "error",
     "traceback": [
      "\u001b[0;31m---------------------------------------------------------------------------\u001b[0m",
      "\u001b[0;31mFileNotFoundError\u001b[0m                         Traceback (most recent call last)",
      "\u001b[0;32m<ipython-input-7-ef59edad9d1e>\u001b[0m in \u001b[0;36m<module>\u001b[0;34m\u001b[0m\n\u001b[0;32m----> 1\u001b[0;31m \u001b[0mos\u001b[0m\u001b[0;34m.\u001b[0m\u001b[0mremove\u001b[0m\u001b[0;34m(\u001b[0m\u001b[0;34m'funda.csv'\u001b[0m\u001b[0;34m)\u001b[0m\u001b[0;34m\u001b[0m\u001b[0;34m\u001b[0m\u001b[0m\n\u001b[0m",
      "\u001b[0;31mFileNotFoundError\u001b[0m: [Errno 2] No such file or directory: 'funda.csv'"
     ]
    }
   ],
   "source": [
    "os.remove('funda.csv')"
   ]
  },
  {
   "cell_type": "code",
   "execution_count": 11,
   "id": "brief-communication",
   "metadata": {
    "scrolled": true
   },
   "outputs": [
    {
     "data": {
      "text/html": [
       "<div>\n",
       "<style scoped>\n",
       "    .dataframe tbody tr th:only-of-type {\n",
       "        vertical-align: middle;\n",
       "    }\n",
       "\n",
       "    .dataframe tbody tr th {\n",
       "        vertical-align: top;\n",
       "    }\n",
       "\n",
       "    .dataframe thead th {\n",
       "        text-align: right;\n",
       "    }\n",
       "</style>\n",
       "<table border=\"1\" class=\"dataframe\">\n",
       "  <thead>\n",
       "    <tr style=\"text-align: right;\">\n",
       "      <th></th>\n",
       "      <th>Name</th>\n",
       "      <th>Url</th>\n",
       "      <th>Description</th>\n",
       "      <th>key_features</th>\n",
       "      <th>area_features</th>\n",
       "      <th>cordinates</th>\n",
       "      <th>Images</th>\n",
       "      <th>Phone_No</th>\n",
       "    </tr>\n",
       "  </thead>\n",
       "  <tbody>\n",
       "    <tr>\n",
       "      <th>0</th>\n",
       "      <td>Regus Amsterdam Kraanspoor</td>\n",
       "      <td>https://www.fundainbusiness.nl/kantoor/amsterd...</td>\n",
       "      <td>Een unieke werkplek  boven  de rivier  de IJNe...</td>\n",
       "      <td>[{'Huurprijs': 'Vanaf € 896 /mnd', 'Servicekos...</td>\n",
       "      <td>[{'Hoofdfunctie': 'Kantoor'}]</td>\n",
       "      <td>{'latitude': 52.40409, 'longitude': 4.886703}</td>\n",
       "      <td>https://cloud.funda.nl/valentina_media/141/771...</td>\n",
       "      <td>NaN</td>\n",
       "    </tr>\n",
       "    <tr>\n",
       "      <th>1</th>\n",
       "      <td>Bilderdijkstraat 77</td>\n",
       "      <td>https://www.fundainbusiness.nl/winkel/amsterda...</td>\n",
       "      <td>The Gallery Salon  Studios  is een  concept da...</td>\n",
       "      <td>[{'Huurprijs': '€ 1.090 per maand', 'Aangebode...</td>\n",
       "      <td>[{'Hoofdfunctie': 'Winkel', 'Mogelijke functie...</td>\n",
       "      <td>{'latitude': 52.36968, 'longitude': 4.870837}</td>\n",
       "      <td>https://cloud.funda.nl/valentina_media/141/945...</td>\n",
       "      <td>NaN</td>\n",
       "    </tr>\n",
       "    <tr>\n",
       "      <th>2</th>\n",
       "      <td>Weerdestein</td>\n",
       "      <td>https://www.fundainbusiness.nl/kantoor/amsterd...</td>\n",
       "      <td>In het kantoorpand  zijn  modern ingerichte  k...</td>\n",
       "      <td>[{'Huurprijs': 'Vanaf € 199 /mnd incl. service...</td>\n",
       "      <td>[{'Hoofdfunctie': 'Kantoor'}]</td>\n",
       "      <td>{'latitude': 52.33092, 'longitude': 4.888261}</td>\n",
       "      <td>https://cloud.funda.nl/valentina_media/138/647...</td>\n",
       "      <td>NaN</td>\n",
       "    </tr>\n",
       "    <tr>\n",
       "      <th>3</th>\n",
       "      <td>Spaces Keizersgracht</td>\n",
       "      <td>https://www.fundainbusiness.nl/kantoor/amsterd...</td>\n",
       "      <td>SPACES KEIZERSGRACHT IS  EEN  KUNSTWERK.Midden...</td>\n",
       "      <td>[{'Huurprijs': 'Vanaf € 282 /mnd incl. service...</td>\n",
       "      <td>[{'Hoofdfunctie': 'Kantoor'}]</td>\n",
       "      <td>{'latitude': 52.36443, 'longitude': 4.890014}</td>\n",
       "      <td>https://cloud.funda.nl/valentina_media/140/466...</td>\n",
       "      <td>NaN</td>\n",
       "    </tr>\n",
       "    <tr>\n",
       "      <th>4</th>\n",
       "      <td>Mindspace - Herengracht</td>\n",
       "      <td>https://www.fundainbusiness.nl/kantoor/amsterd...</td>\n",
       "      <td>Mindspace Herengracht is  gelegen  in een  aut...</td>\n",
       "      <td>[{'Huurprijs': 'Vanaf € 3.500 /mnd incl. servi...</td>\n",
       "      <td>[{'Hoofdfunctie': 'Kantoor'}]</td>\n",
       "      <td>{'latitude': 52.3742, 'longitude': 4.886919}</td>\n",
       "      <td>https://cloud.funda.nl/valentina_media/149/887...</td>\n",
       "      <td>NaN</td>\n",
       "    </tr>\n",
       "  </tbody>\n",
       "</table>\n",
       "</div>"
      ],
      "text/plain": [
       "                         Name  \\\n",
       "0  Regus Amsterdam Kraanspoor   \n",
       "1         Bilderdijkstraat 77   \n",
       "2                 Weerdestein   \n",
       "3        Spaces Keizersgracht   \n",
       "4     Mindspace - Herengracht   \n",
       "\n",
       "                                                 Url  \\\n",
       "0  https://www.fundainbusiness.nl/kantoor/amsterd...   \n",
       "1  https://www.fundainbusiness.nl/winkel/amsterda...   \n",
       "2  https://www.fundainbusiness.nl/kantoor/amsterd...   \n",
       "3  https://www.fundainbusiness.nl/kantoor/amsterd...   \n",
       "4  https://www.fundainbusiness.nl/kantoor/amsterd...   \n",
       "\n",
       "                                         Description  \\\n",
       "0  Een unieke werkplek  boven  de rivier  de IJNe...   \n",
       "1  The Gallery Salon  Studios  is een  concept da...   \n",
       "2  In het kantoorpand  zijn  modern ingerichte  k...   \n",
       "3  SPACES KEIZERSGRACHT IS  EEN  KUNSTWERK.Midden...   \n",
       "4  Mindspace Herengracht is  gelegen  in een  aut...   \n",
       "\n",
       "                                        key_features  \\\n",
       "0  [{'Huurprijs': 'Vanaf € 896 /mnd', 'Servicekos...   \n",
       "1  [{'Huurprijs': '€ 1.090 per maand', 'Aangebode...   \n",
       "2  [{'Huurprijs': 'Vanaf € 199 /mnd incl. service...   \n",
       "3  [{'Huurprijs': 'Vanaf € 282 /mnd incl. service...   \n",
       "4  [{'Huurprijs': 'Vanaf € 3.500 /mnd incl. servi...   \n",
       "\n",
       "                                       area_features  \\\n",
       "0                      [{'Hoofdfunctie': 'Kantoor'}]   \n",
       "1  [{'Hoofdfunctie': 'Winkel', 'Mogelijke functie...   \n",
       "2                      [{'Hoofdfunctie': 'Kantoor'}]   \n",
       "3                      [{'Hoofdfunctie': 'Kantoor'}]   \n",
       "4                      [{'Hoofdfunctie': 'Kantoor'}]   \n",
       "\n",
       "                                      cordinates  \\\n",
       "0  {'latitude': 52.40409, 'longitude': 4.886703}   \n",
       "1  {'latitude': 52.36968, 'longitude': 4.870837}   \n",
       "2  {'latitude': 52.33092, 'longitude': 4.888261}   \n",
       "3  {'latitude': 52.36443, 'longitude': 4.890014}   \n",
       "4   {'latitude': 52.3742, 'longitude': 4.886919}   \n",
       "\n",
       "                                              Images  Phone_No  \n",
       "0  https://cloud.funda.nl/valentina_media/141/771...       NaN  \n",
       "1  https://cloud.funda.nl/valentina_media/141/945...       NaN  \n",
       "2  https://cloud.funda.nl/valentina_media/138/647...       NaN  \n",
       "3  https://cloud.funda.nl/valentina_media/140/466...       NaN  \n",
       "4  https://cloud.funda.nl/valentina_media/149/887...       NaN  "
      ]
     },
     "execution_count": 11,
     "metadata": {},
     "output_type": "execute_result"
    }
   ],
   "source": [
    "data = pd.read_csv('fundatest.csv')\n",
    "data"
   ]
  },
  {
   "cell_type": "code",
   "execution_count": 12,
   "id": "subjective-allergy",
   "metadata": {},
   "outputs": [
    {
     "data": {
      "text/plain": [
       "5"
      ]
     },
     "execution_count": 12,
     "metadata": {},
     "output_type": "execute_result"
    }
   ],
   "source": [
    "#data[data.Phone_No.isnull()]\n",
    "data.Phone_No.isnull().sum()"
   ]
  },
  {
   "cell_type": "code",
   "execution_count": null,
   "id": "automotive-primary",
   "metadata": {},
   "outputs": [],
   "source": []
  },
  {
   "cell_type": "code",
   "execution_count": 4,
   "id": "known-album",
   "metadata": {},
   "outputs": [
    {
     "data": {
      "text/plain": [
       "array([['Bilderdijkstraat 77',\n",
       "        'https://www.fundainbusiness.nl/winkel/amsterdam/object-87581924-bilderdijkstraat-77/',\n",
       "        \"The Gallery Salon  Studios  is een  concept dat  komt overgewaaid uit Amerika.In een Salon Studio beschikt  een  hair artist over zijn of haar eigen salon, met  privé  faciliteiten en een eigen logo op de afsluitbare voordeur.Tegelijkertijd kan er gebruik worden gemaakt van alle extra's zoals een Wasserette, Community Spaces, Events, Trainingen etc. Salon Studio's zijn 24/7 beschikbaar, ook voor nail artists of lash/brow technicians.Voorzieningen:Turn-key Salon Studio's met eigen backbar, coloring station/kitchen, mechanische ventilatie en airconditioning, werk- en sfeerverlichting, heren- en dames toiletten, wasserette, ruime lobby.Betaald parkeren voor de deur of bij De Hallen.Abonnementen bij The Gallery Salon Studios zijn beschikbaar vanaf € 1.090,- per maand +btw.Meer informatie op gallerysalonstudios.comVoor vragen of het plannen van een rondleiding graag mailen naar discover[at]gallerysalonstudios.com of app naar+31 (0)85 0478880.\",\n",
       "        \"[{'Huurprijs': '€ 1.090 per maand', 'Aangeboden sinds': '6+ maanden', 'Status': 'Beschikbaar', 'Aanvaarding': 'Per direct beschikbaar'}]\",\n",
       "        \"[{'Hoofdfunctie': 'Winkel', 'Mogelijke functie(s)': 'Praktijkruimte', 'Soort bouw': 'Bestaande bouw', 'Bouwjaar': '1901'}]\",\n",
       "        \"{'latitude': 52.36968, 'longitude': 4.870837}\",\n",
       "        'https://cloud.funda.nl/valentina_media/141/945/925_1440x960.jpg https://cloud.funda.nl/valentina_media/142/464/874_1440x960.jpg https://cloud.funda.nl/valentina_media/142/464/637_1440x960.jpg https://cloud.funda.nl/valentina_media/142/464/636_1440x960.jpg https://cloud.funda.nl/valentina_media/141/945/856_1440x960.jpg',\n",
       "        nan],\n",
       "       ['Regus Amsterdam Kraanspoor',\n",
       "        'https://www.fundainbusiness.nl/kantoor/amsterdam/gebouw-87728285-kraanspoor-50/',\n",
       "        \"Een unieke werkplek  boven  de rivier  de IJNeem eens wat anders  dan  anders met deze moderne kantoorruimte  op  Kraanspoor 50: een opvallend glazen gebouw op een voormalige  kraanbaan  die uitsteekt over de rivier de IJ. Het voormalige industriegebied van Amsterdam is nu een smeltpot van cultuur en nachtleven: een inspirerende omgeving voor uw bedrijf.Werk samen met collega's in het frisse interieur met een goede balans tussen afgesloten werkplekken en kantoortuinen. En met al deze museums, kunstwerken, winkels, restaurants en trendy bars in de buurt, is er voor elk wat wils.Wat is er aanwezig;•\\tGehandicaptenvoorzieningen•\\tLift•\\tVervoersaansluitingen•\\tParkeren•\\tVerhoogde vloeren•\\tFietsenstalling•\\t24-uurs toegang\",\n",
       "        \"[{'Huurprijs': 'Vanaf € 896 /mnd', 'Servicekosten': 'Geen servicekosten bekend'}]\",\n",
       "        \"[{'Hoofdfunctie': 'Kantoor'}]\",\n",
       "        \"{'latitude': 52.40409, 'longitude': 4.886703}\",\n",
       "        'https://cloud.funda.nl/valentina_media/141/771/903_1440x960.jpg',\n",
       "        nan],\n",
       "       ['Weerdestein',\n",
       "        'https://www.fundainbusiness.nl/kantoor/amsterdam/gebouw-87618285-weerdestein-97/',\n",
       "        'In het kantoorpand  zijn  modern ingerichte  kantoorruimtes en  co-working plekken beschikbaarVergaderruimten,  receptiediensten, koffie en theeHuurprijzen  zijn  exclusief verschillende services die naar eigen keuze kunnen worden.  Voorbeelden  hiervan zijn parkeren, het gebruik maken van de vergaderruimten, de receptiediensten, post-en pakketservice en het gebruik van koffie, thee en frisdrank.Locatie en bereikbaarheidDe locatie is gemakkelijk te bereiken met de auto en met het openbaar vervoer. Dankzij de nieuwe Noord-Zuid lijn ben je binnen 10 minuten op Amsterdam Centraal. Via de Ringweg A10 is deze locatie ook goed bereikbaar met de auto, zodat je gemakkelijk naar je klanten toe kan rijden.Zie jij jezelf binnenkort werken op deze locatie aan de Weerdestein 19 in Amsterdam?Plan bij ons gratis en geheel vrijblijvend een bezichtiging in of vraag ons naar de mogelijkheden op deze locatie.',\n",
       "        \"[{'Huurprijs': 'Vanaf € 199 /mnd incl. servicekosten', 'Servicekosten': 'Geen extra kosten, de huurprijs is all-in'}]\",\n",
       "        \"[{'Hoofdfunctie': 'Kantoor'}]\",\n",
       "        \"{'latitude': 52.33092, 'longitude': 4.888261}\",\n",
       "        'https://cloud.funda.nl/valentina_media/138/647/771_1440x960.jpg',\n",
       "        nan],\n",
       "       ['Spaces Keizersgracht',\n",
       "        'https://www.fundainbusiness.nl/kantoor/amsterdam/gebouw-87690442-keizersgracht-555/',\n",
       "        'SPACES KEIZERSGRACHT IS  EEN  KUNSTWERK.Midden in  het kloppende hart van  het  Amsterdamse centrum van kunst en  antiek,  het Spiegelkwartier, ligt Spaces Keizersgracht. Een monumentaal pand met  privékantoorruimtes,  flexibele werkruimtes en vergaderruimtes, waar je mensen kan ontmoeten, waar je kan werken en waar je inspiratie opdoet.Neem even pauze met een vers gezet kopje koffie of een warme lunch, en laat onze supersnelle beveiligde wifi en inpandige services je direct weer meevoeren in de actie. Wil je rustig je mail versturen, meegaan in de bruisende stadsomgeving, of het maximale halen uit een inspirerende werkomgeving? Het kan allemaal in dit monumentale pand met prachtig ontworpen business club en dakterras aan de Keizersgracht.Voordelen van locatie•\\t6 Vergaderruimtes•\\t28 Parkeerplekken•\\tSupersnelle wifi•\\tKoffieruimtes•\\tBuitenruimte•\\tKoffie- en broodjesbar•\\t18 Vaste Werkplekken•\\t53 privékantorenWaarom kiezen voor Spaces Keizersgracht?•\\tOmgeven door de historische Amsterdamse grachtengordels, het Museumkwartier en de kunstbuurt.•\\tBinnen no-time sta je midden in de winkelstraten.•\\tGevestigd in een schitterend monumentaal pand in een van de meest creatieve omgevingen in Amsterdam.•\\tDe metrohalte van de nieuwe Noord/Zuidlijn is binnen handbereik.Alles wat je nodig hebt, allemaal voor één prijs.Wanneer je je aansluit bij Spaces, krijg je alles wat je nodig hebt om te werken, allemaal op één plaats en op dezelfde factuur.Alles is beschikbaar, van supersnelle wifi tot stijlvol meubilair. Daarnaast is er een community van creatieve ondernemers die jou graag willen leren kennen. Wij regelen de saaie dingen, zoals de voorzieningen en het schoonmaken; alles inbegrepen in één eenvoudige prijs. Wanneer je een vergadering wilt organiseren, kopieën wilt maken of een kop koffie wilt drinken, betaal je gewoon voor wat je gebruikt. Zo weet je altijd waar je staat. De enige verrassing is wie er naast je staat.',\n",
       "        \"[{'Huurprijs': 'Vanaf € 282 /mnd incl. servicekosten', 'Servicekosten': 'Geen extra kosten, de huurprijs is all-in'}]\",\n",
       "        \"[{'Hoofdfunctie': 'Kantoor'}]\",\n",
       "        \"{'latitude': 52.36443, 'longitude': 4.890014}\",\n",
       "        'https://cloud.funda.nl/valentina_media/140/466/820_1440x960.jpg',\n",
       "        nan],\n",
       "       ['Mindspace - Herengracht',\n",
       "        'https://www.fundainbusiness.nl/kantoor/amsterdam/gebouw-88915997-herengracht-168/',\n",
       "        'Mindspace Herengracht is  gelegen  in een  authentiek UNESCO  Werelderfgoed grachtenpand. Laat je  verrassen  door drie stijlkamers rechtstreeks uit  de  Gouden Eeuw met originele freco\\'s en prachtige details. Even  ontspannen  kan in de royale achtertuin. Maar de echte blikvangers zijn de monumentale hal en wenteltrap, vol standbeelden en ornamenten. Op deze locatie is het mogelijk om tegen flexibele voorwaarden je eigen kantoor te huren.De kantoren zijn prachtig gemeubileerd, met unieke voorwerpen en vintage-meubilair. Dankzij het snelle internet bent u altijd verbonden, het gebouw is 24 uur per dag, 7 dagen per week toegankelijk en u kunt telefoongesprekken voeren in geluidsdichte cabines.Er zijn meer dan genoeg vergaderruimtes beschikbaar en er is een ruimte voor evenementen die zeer flexibel is en kan worden gebruikt voor verschillende doeleinden, waaronder congressen, cursussen en netwerkbijeenkomsten. Als u het centrum gebruikt als postadres, heeft uw bedrijf een prestigieus en centraal anders zonder groots te hoeven investeren. De voorwaarden zijn flexibel en de tarieven aantrekkelijk. Bovendien is de prijs ook nog eens all in, zodat u aan het eind van de maand niet wordt geconfronteerd met verborgen kosten.\"De omgeving heeft van alles te bieden en er zijn heel veel opties voor uw lunchpauze. U kunt kiezen uit verschillende cafés, restaurants en bars. Als u haast hebt, zijn er bovendien fastfood-opties. In het gebied zijn meerdere hotels te vinden, wat handig is als u bezoekers hebt. Amsterdam Centraal is maar 15 minuten lopen. Hiervandaan kunt u naar andere delen van de stad.Wil je meer weten over alle mogelijkheden binnen dit gebouw? Neem dan vrijblijvend contact met ons op.',\n",
       "        \"[{'Huurprijs': 'Vanaf € 3.500 /mnd incl. servicekosten', 'Servicekosten': 'Geen extra kosten, de huurprijs is all-in'}]\",\n",
       "        \"[{'Hoofdfunctie': 'Kantoor'}]\",\n",
       "        \"{'latitude': 52.3742, 'longitude': 4.886919}\",\n",
       "        'https://cloud.funda.nl/valentina_media/149/887/045_1440x960.jpg',\n",
       "        nan]], dtype=object)"
      ]
     },
     "execution_count": 4,
     "metadata": {},
     "output_type": "execute_result"
    }
   ],
   "source": [
    "#pd.set_option('display.max_rows', None)\n",
    "np.array(data)\n"
   ]
  },
  {
   "cell_type": "code",
   "execution_count": 5,
   "id": "technological-meaning",
   "metadata": {},
   "outputs": [
    {
     "data": {
      "text/plain": [
       "(array([0, 1, 2, 3, 4]),)"
      ]
     },
     "execution_count": 5,
     "metadata": {},
     "output_type": "execute_result"
    }
   ],
   "source": [
    "null = np.where(data.Phone_No.isnull())\n",
    "null"
   ]
  },
  {
   "cell_type": "code",
   "execution_count": 6,
   "id": "inclusive-frank",
   "metadata": {},
   "outputs": [],
   "source": [
    "def null_links(null):\n",
    "    for i in null:\n",
    "        links = data.iloc[i].Url\n",
    "    return links[1:5]    "
   ]
  },
  {
   "cell_type": "code",
   "execution_count": 7,
   "id": "seven-dress",
   "metadata": {},
   "outputs": [],
   "source": [
    "links =  np.array(null_links(null))"
   ]
  },
  {
   "cell_type": "code",
   "execution_count": 8,
   "id": "residential-boxing",
   "metadata": {},
   "outputs": [
    {
     "data": {
      "text/plain": [
       "array(['https://www.fundainbusiness.nl/kantoor/amsterdam/gebouw-87728285-kraanspoor-50/',\n",
       "       'https://www.fundainbusiness.nl/kantoor/amsterdam/gebouw-87618285-weerdestein-97/',\n",
       "       'https://www.fundainbusiness.nl/kantoor/amsterdam/gebouw-87690442-keizersgracht-555/',\n",
       "       'https://www.fundainbusiness.nl/kantoor/amsterdam/gebouw-88915997-herengracht-168/'],\n",
       "      dtype=object)"
      ]
     },
     "execution_count": 8,
     "metadata": {},
     "output_type": "execute_result"
    }
   ],
   "source": [
    "links"
   ]
  },
  {
   "cell_type": "code",
   "execution_count": 10,
   "id": "champion-forestry",
   "metadata": {},
   "outputs": [
    {
     "ename": "TypeError",
     "evalue": "Mismatch between array dtype ('object') and format specifier ('%.18e')",
     "output_type": "error",
     "traceback": [
      "\u001b[0;31m---------------------------------------------------------------------------\u001b[0m",
      "\u001b[0;31mTypeError\u001b[0m                                 Traceback (most recent call last)",
      "\u001b[0;32m~/.local/lib/python3.8/site-packages/numpy/lib/npyio.py\u001b[0m in \u001b[0;36msavetxt\u001b[0;34m(fname, X, fmt, delimiter, newline, header, footer, comments, encoding)\u001b[0m\n\u001b[1;32m   1423\u001b[0m                 \u001b[0;32mtry\u001b[0m\u001b[0;34m:\u001b[0m\u001b[0;34m\u001b[0m\u001b[0;34m\u001b[0m\u001b[0m\n\u001b[0;32m-> 1424\u001b[0;31m                     \u001b[0mv\u001b[0m \u001b[0;34m=\u001b[0m \u001b[0mformat\u001b[0m \u001b[0;34m%\u001b[0m \u001b[0mtuple\u001b[0m\u001b[0;34m(\u001b[0m\u001b[0mrow\u001b[0m\u001b[0;34m)\u001b[0m \u001b[0;34m+\u001b[0m \u001b[0mnewline\u001b[0m\u001b[0;34m\u001b[0m\u001b[0;34m\u001b[0m\u001b[0m\n\u001b[0m\u001b[1;32m   1425\u001b[0m                 \u001b[0;32mexcept\u001b[0m \u001b[0mTypeError\u001b[0m\u001b[0;34m:\u001b[0m\u001b[0;34m\u001b[0m\u001b[0;34m\u001b[0m\u001b[0m\n",
      "\u001b[0;31mTypeError\u001b[0m: must be real number, not str",
      "\nDuring handling of the above exception, another exception occurred:\n",
      "\u001b[0;31mTypeError\u001b[0m                                 Traceback (most recent call last)",
      "\u001b[0;32m<ipython-input-10-e349e53e12b1>\u001b[0m in \u001b[0;36m<module>\u001b[0;34m\u001b[0m\n\u001b[1;32m      1\u001b[0m \u001b[0;32mfrom\u001b[0m \u001b[0mnumpy\u001b[0m \u001b[0;32mimport\u001b[0m \u001b[0msavetxt\u001b[0m\u001b[0;34m\u001b[0m\u001b[0;34m\u001b[0m\u001b[0m\n\u001b[0;32m----> 2\u001b[0;31m \u001b[0mnp\u001b[0m\u001b[0;34m.\u001b[0m\u001b[0msavetxt\u001b[0m\u001b[0;34m(\u001b[0m\u001b[0;34m'new_links.csv'\u001b[0m\u001b[0;34m,\u001b[0m \u001b[0mlinks\u001b[0m\u001b[0;34m)\u001b[0m\u001b[0;34m\u001b[0m\u001b[0;34m\u001b[0m\u001b[0m\n\u001b[0m",
      "\u001b[0;32m<__array_function__ internals>\u001b[0m in \u001b[0;36msavetxt\u001b[0;34m(*args, **kwargs)\u001b[0m\n",
      "\u001b[0;32m~/.local/lib/python3.8/site-packages/numpy/lib/npyio.py\u001b[0m in \u001b[0;36msavetxt\u001b[0;34m(fname, X, fmt, delimiter, newline, header, footer, comments, encoding)\u001b[0m\n\u001b[1;32m   1424\u001b[0m                     \u001b[0mv\u001b[0m \u001b[0;34m=\u001b[0m \u001b[0mformat\u001b[0m \u001b[0;34m%\u001b[0m \u001b[0mtuple\u001b[0m\u001b[0;34m(\u001b[0m\u001b[0mrow\u001b[0m\u001b[0;34m)\u001b[0m \u001b[0;34m+\u001b[0m \u001b[0mnewline\u001b[0m\u001b[0;34m\u001b[0m\u001b[0;34m\u001b[0m\u001b[0m\n\u001b[1;32m   1425\u001b[0m                 \u001b[0;32mexcept\u001b[0m \u001b[0mTypeError\u001b[0m\u001b[0;34m:\u001b[0m\u001b[0;34m\u001b[0m\u001b[0;34m\u001b[0m\u001b[0m\n\u001b[0;32m-> 1426\u001b[0;31m                     raise TypeError(\"Mismatch between array dtype ('%s') and \"\n\u001b[0m\u001b[1;32m   1427\u001b[0m                                     \u001b[0;34m\"format specifier ('%s')\"\u001b[0m\u001b[0;34m\u001b[0m\u001b[0;34m\u001b[0m\u001b[0m\n\u001b[1;32m   1428\u001b[0m                                     % (str(X.dtype), format))\n",
      "\u001b[0;31mTypeError\u001b[0m: Mismatch between array dtype ('object') and format specifier ('%.18e')"
     ]
    }
   ],
   "source": [
    "from numpy import savetxt\n",
    "np.savetxt('new_links.csv', links)"
   ]
  },
  {
   "cell_type": "code",
   "execution_count": null,
   "id": "national-flood",
   "metadata": {},
   "outputs": [],
   "source": [
    "pd.DataFrame(links).to_csv(\"new_links.csv\", index = False)"
   ]
  },
  {
   "cell_type": "code",
   "execution_count": 11,
   "id": "electoral-arrangement",
   "metadata": {},
   "outputs": [
    {
     "ename": "EmptyDataError",
     "evalue": "No columns to parse from file",
     "output_type": "error",
     "traceback": [
      "\u001b[0;31m---------------------------------------------------------------------------\u001b[0m",
      "\u001b[0;31mEmptyDataError\u001b[0m                            Traceback (most recent call last)",
      "\u001b[0;32m<ipython-input-11-4005605fdce5>\u001b[0m in \u001b[0;36m<module>\u001b[0;34m\u001b[0m\n\u001b[0;32m----> 1\u001b[0;31m \u001b[0mdf\u001b[0m \u001b[0;34m=\u001b[0m \u001b[0mpd\u001b[0m\u001b[0;34m.\u001b[0m\u001b[0mread_csv\u001b[0m\u001b[0;34m(\u001b[0m\u001b[0;34m'new_links.csv'\u001b[0m\u001b[0;34m)\u001b[0m\u001b[0;34m\u001b[0m\u001b[0;34m\u001b[0m\u001b[0m\n\u001b[0m\u001b[1;32m      2\u001b[0m \u001b[0mdf\u001b[0m\u001b[0;34m\u001b[0m\u001b[0;34m\u001b[0m\u001b[0m\n",
      "\u001b[0;32m~/.local/lib/python3.8/site-packages/pandas/io/parsers.py\u001b[0m in \u001b[0;36mread_csv\u001b[0;34m(filepath_or_buffer, sep, delimiter, header, names, index_col, usecols, squeeze, prefix, mangle_dupe_cols, dtype, engine, converters, true_values, false_values, skipinitialspace, skiprows, skipfooter, nrows, na_values, keep_default_na, na_filter, verbose, skip_blank_lines, parse_dates, infer_datetime_format, keep_date_col, date_parser, dayfirst, cache_dates, iterator, chunksize, compression, thousands, decimal, lineterminator, quotechar, quoting, doublequote, escapechar, comment, encoding, dialect, error_bad_lines, warn_bad_lines, delim_whitespace, low_memory, memory_map, float_precision, storage_options)\u001b[0m\n\u001b[1;32m    608\u001b[0m     \u001b[0mkwds\u001b[0m\u001b[0;34m.\u001b[0m\u001b[0mupdate\u001b[0m\u001b[0;34m(\u001b[0m\u001b[0mkwds_defaults\u001b[0m\u001b[0;34m)\u001b[0m\u001b[0;34m\u001b[0m\u001b[0;34m\u001b[0m\u001b[0m\n\u001b[1;32m    609\u001b[0m \u001b[0;34m\u001b[0m\u001b[0m\n\u001b[0;32m--> 610\u001b[0;31m     \u001b[0;32mreturn\u001b[0m \u001b[0m_read\u001b[0m\u001b[0;34m(\u001b[0m\u001b[0mfilepath_or_buffer\u001b[0m\u001b[0;34m,\u001b[0m \u001b[0mkwds\u001b[0m\u001b[0;34m)\u001b[0m\u001b[0;34m\u001b[0m\u001b[0;34m\u001b[0m\u001b[0m\n\u001b[0m\u001b[1;32m    611\u001b[0m \u001b[0;34m\u001b[0m\u001b[0m\n\u001b[1;32m    612\u001b[0m \u001b[0;34m\u001b[0m\u001b[0m\n",
      "\u001b[0;32m~/.local/lib/python3.8/site-packages/pandas/io/parsers.py\u001b[0m in \u001b[0;36m_read\u001b[0;34m(filepath_or_buffer, kwds)\u001b[0m\n\u001b[1;32m    460\u001b[0m \u001b[0;34m\u001b[0m\u001b[0m\n\u001b[1;32m    461\u001b[0m     \u001b[0;31m# Create the parser.\u001b[0m\u001b[0;34m\u001b[0m\u001b[0;34m\u001b[0m\u001b[0;34m\u001b[0m\u001b[0m\n\u001b[0;32m--> 462\u001b[0;31m     \u001b[0mparser\u001b[0m \u001b[0;34m=\u001b[0m \u001b[0mTextFileReader\u001b[0m\u001b[0;34m(\u001b[0m\u001b[0mfilepath_or_buffer\u001b[0m\u001b[0;34m,\u001b[0m \u001b[0;34m**\u001b[0m\u001b[0mkwds\u001b[0m\u001b[0;34m)\u001b[0m\u001b[0;34m\u001b[0m\u001b[0;34m\u001b[0m\u001b[0m\n\u001b[0m\u001b[1;32m    463\u001b[0m \u001b[0;34m\u001b[0m\u001b[0m\n\u001b[1;32m    464\u001b[0m     \u001b[0;32mif\u001b[0m \u001b[0mchunksize\u001b[0m \u001b[0;32mor\u001b[0m \u001b[0miterator\u001b[0m\u001b[0;34m:\u001b[0m\u001b[0;34m\u001b[0m\u001b[0;34m\u001b[0m\u001b[0m\n",
      "\u001b[0;32m~/.local/lib/python3.8/site-packages/pandas/io/parsers.py\u001b[0m in \u001b[0;36m__init__\u001b[0;34m(self, f, engine, **kwds)\u001b[0m\n\u001b[1;32m    817\u001b[0m             \u001b[0mself\u001b[0m\u001b[0;34m.\u001b[0m\u001b[0moptions\u001b[0m\u001b[0;34m[\u001b[0m\u001b[0;34m\"has_index_names\"\u001b[0m\u001b[0;34m]\u001b[0m \u001b[0;34m=\u001b[0m \u001b[0mkwds\u001b[0m\u001b[0;34m[\u001b[0m\u001b[0;34m\"has_index_names\"\u001b[0m\u001b[0;34m]\u001b[0m\u001b[0;34m\u001b[0m\u001b[0;34m\u001b[0m\u001b[0m\n\u001b[1;32m    818\u001b[0m \u001b[0;34m\u001b[0m\u001b[0m\n\u001b[0;32m--> 819\u001b[0;31m         \u001b[0mself\u001b[0m\u001b[0;34m.\u001b[0m\u001b[0m_engine\u001b[0m \u001b[0;34m=\u001b[0m \u001b[0mself\u001b[0m\u001b[0;34m.\u001b[0m\u001b[0m_make_engine\u001b[0m\u001b[0;34m(\u001b[0m\u001b[0mself\u001b[0m\u001b[0;34m.\u001b[0m\u001b[0mengine\u001b[0m\u001b[0;34m)\u001b[0m\u001b[0;34m\u001b[0m\u001b[0;34m\u001b[0m\u001b[0m\n\u001b[0m\u001b[1;32m    820\u001b[0m \u001b[0;34m\u001b[0m\u001b[0m\n\u001b[1;32m    821\u001b[0m     \u001b[0;32mdef\u001b[0m \u001b[0mclose\u001b[0m\u001b[0;34m(\u001b[0m\u001b[0mself\u001b[0m\u001b[0;34m)\u001b[0m\u001b[0;34m:\u001b[0m\u001b[0;34m\u001b[0m\u001b[0;34m\u001b[0m\u001b[0m\n",
      "\u001b[0;32m~/.local/lib/python3.8/site-packages/pandas/io/parsers.py\u001b[0m in \u001b[0;36m_make_engine\u001b[0;34m(self, engine)\u001b[0m\n\u001b[1;32m   1048\u001b[0m             )\n\u001b[1;32m   1049\u001b[0m         \u001b[0;31m# error: Too many arguments for \"ParserBase\"\u001b[0m\u001b[0;34m\u001b[0m\u001b[0;34m\u001b[0m\u001b[0;34m\u001b[0m\u001b[0m\n\u001b[0;32m-> 1050\u001b[0;31m         \u001b[0;32mreturn\u001b[0m \u001b[0mmapping\u001b[0m\u001b[0;34m[\u001b[0m\u001b[0mengine\u001b[0m\u001b[0;34m]\u001b[0m\u001b[0;34m(\u001b[0m\u001b[0mself\u001b[0m\u001b[0;34m.\u001b[0m\u001b[0mf\u001b[0m\u001b[0;34m,\u001b[0m \u001b[0;34m**\u001b[0m\u001b[0mself\u001b[0m\u001b[0;34m.\u001b[0m\u001b[0moptions\u001b[0m\u001b[0;34m)\u001b[0m  \u001b[0;31m# type: ignore[call-arg]\u001b[0m\u001b[0;34m\u001b[0m\u001b[0;34m\u001b[0m\u001b[0m\n\u001b[0m\u001b[1;32m   1051\u001b[0m \u001b[0;34m\u001b[0m\u001b[0m\n\u001b[1;32m   1052\u001b[0m     \u001b[0;32mdef\u001b[0m \u001b[0m_failover_to_python\u001b[0m\u001b[0;34m(\u001b[0m\u001b[0mself\u001b[0m\u001b[0;34m)\u001b[0m\u001b[0;34m:\u001b[0m\u001b[0;34m\u001b[0m\u001b[0;34m\u001b[0m\u001b[0m\n",
      "\u001b[0;32m~/.local/lib/python3.8/site-packages/pandas/io/parsers.py\u001b[0m in \u001b[0;36m__init__\u001b[0;34m(self, src, **kwds)\u001b[0m\n\u001b[1;32m   1896\u001b[0m \u001b[0;34m\u001b[0m\u001b[0m\n\u001b[1;32m   1897\u001b[0m         \u001b[0;32mtry\u001b[0m\u001b[0;34m:\u001b[0m\u001b[0;34m\u001b[0m\u001b[0;34m\u001b[0m\u001b[0m\n\u001b[0;32m-> 1898\u001b[0;31m             \u001b[0mself\u001b[0m\u001b[0;34m.\u001b[0m\u001b[0m_reader\u001b[0m \u001b[0;34m=\u001b[0m \u001b[0mparsers\u001b[0m\u001b[0;34m.\u001b[0m\u001b[0mTextReader\u001b[0m\u001b[0;34m(\u001b[0m\u001b[0mself\u001b[0m\u001b[0;34m.\u001b[0m\u001b[0mhandles\u001b[0m\u001b[0;34m.\u001b[0m\u001b[0mhandle\u001b[0m\u001b[0;34m,\u001b[0m \u001b[0;34m**\u001b[0m\u001b[0mkwds\u001b[0m\u001b[0;34m)\u001b[0m\u001b[0;34m\u001b[0m\u001b[0;34m\u001b[0m\u001b[0m\n\u001b[0m\u001b[1;32m   1899\u001b[0m         \u001b[0;32mexcept\u001b[0m \u001b[0mException\u001b[0m\u001b[0;34m:\u001b[0m\u001b[0;34m\u001b[0m\u001b[0;34m\u001b[0m\u001b[0m\n\u001b[1;32m   1900\u001b[0m             \u001b[0mself\u001b[0m\u001b[0;34m.\u001b[0m\u001b[0mhandles\u001b[0m\u001b[0;34m.\u001b[0m\u001b[0mclose\u001b[0m\u001b[0;34m(\u001b[0m\u001b[0;34m)\u001b[0m\u001b[0;34m\u001b[0m\u001b[0;34m\u001b[0m\u001b[0m\n",
      "\u001b[0;32mpandas/_libs/parsers.pyx\u001b[0m in \u001b[0;36mpandas._libs.parsers.TextReader.__cinit__\u001b[0;34m()\u001b[0m\n",
      "\u001b[0;31mEmptyDataError\u001b[0m: No columns to parse from file"
     ]
    }
   ],
   "source": [
    "df = pd.read_csv('new_links.csv')\n",
    "df"
   ]
  },
  {
   "cell_type": "code",
   "execution_count": null,
   "id": "relevant-piece",
   "metadata": {},
   "outputs": [],
   "source": [
    "df.rename(columns = {\"0\":'Links'}, inplace = True)"
   ]
  },
  {
   "cell_type": "code",
   "execution_count": 12,
   "id": "israeli-probe",
   "metadata": {},
   "outputs": [
    {
     "data": {
      "text/plain": [
       "(array([  0,   1,   2,   3,   4,   5,   6,   7,   8,   9,  10,  11,  12,\n",
       "         13,  14,  15,  16,  17,  18,  19,  20,  21,  22,  23,  24,  25,\n",
       "         26,  27,  28,  29,  30,  31,  32,  33,  34,  35,  36,  37,  38,\n",
       "         39,  40,  41,  42,  43,  44,  45,  46,  47,  48,  49,  50,  51,\n",
       "         52,  53,  54,  55,  56,  57,  58,  59,  60,  61,  62,  63,  64,\n",
       "         65,  66,  67,  68,  69,  70,  71,  72,  73,  74,  75,  76,  77,\n",
       "         78,  79,  80,  81,  82,  83,  84,  85,  86,  87,  88,  89,  90,\n",
       "         91,  92,  93,  94,  95,  96,  97,  98,  99, 100, 101, 102, 103,\n",
       "        104, 105, 106, 107, 108, 109, 110, 111, 112, 113, 114, 115, 116,\n",
       "        117, 118, 119, 120, 121, 122, 123, 124, 125, 126, 127, 128, 129,\n",
       "        130, 131, 132, 133, 134, 135, 136, 137, 138, 139, 140, 141, 142,\n",
       "        143, 144, 145, 146, 147, 148, 149, 150, 151, 152, 153, 154, 155,\n",
       "        156, 157, 158, 159, 160, 161, 162, 163, 164, 165, 166, 167, 168,\n",
       "        169, 170, 171, 172, 173, 174, 175, 176, 177, 178, 179, 180, 181,\n",
       "        182, 183, 184, 185, 186, 187, 188, 189, 190, 191, 192, 193, 194,\n",
       "        195, 196, 197, 198, 199, 200, 201, 202, 203, 204, 205, 206, 207,\n",
       "        208, 209, 210, 211, 212, 213, 214, 215, 216, 217, 218, 219, 220,\n",
       "        221, 222, 223, 224, 225, 226, 227, 228, 229, 230, 231, 232, 233,\n",
       "        234, 235, 236, 237, 238, 242, 243, 244, 245, 246, 247, 248, 249,\n",
       "        250, 251, 252, 254, 255, 256, 257, 258, 259, 260, 261, 262, 263,\n",
       "        264, 265, 266, 267, 268, 269, 270, 271, 272, 273, 274, 275, 276,\n",
       "        277, 278, 279, 280, 281, 282, 283, 284, 285, 286, 287, 288, 289,\n",
       "        290, 291, 292, 293, 294, 295, 296, 297, 298, 299, 300, 301, 302,\n",
       "        303, 304, 305, 306, 307, 308, 309, 310, 311, 312, 313, 314, 315,\n",
       "        316, 317, 318, 319, 320, 321, 322, 323, 324, 325, 326, 327, 328,\n",
       "        329, 330, 331, 332, 333, 334, 335, 336, 337, 338, 339, 340, 341,\n",
       "        342, 343, 344, 345, 346, 347, 348, 349, 350, 351, 352, 353, 354,\n",
       "        355, 356, 357, 358, 359, 360, 361, 362, 363, 364, 365, 366, 367,\n",
       "        368, 369, 370, 371, 372, 373, 374, 375, 376, 377, 378, 379, 380,\n",
       "        381, 382, 383, 384, 385, 386, 387, 388, 389, 390, 391, 392, 393,\n",
       "        394, 395, 396, 397, 398, 399, 400, 401, 402, 403, 404, 405, 406,\n",
       "        407, 408, 409, 410, 411, 412, 413, 414, 415, 416, 417, 418, 419,\n",
       "        420, 421, 422, 423, 424, 425, 426, 427, 428, 429, 430, 431, 432,\n",
       "        433, 434, 435, 436, 437, 438, 439, 440, 441, 442, 443, 444, 445,\n",
       "        446, 447, 448, 449, 450, 451, 452, 453, 454, 455, 456, 457, 458,\n",
       "        459, 460, 461, 462, 463, 464, 465, 466, 467, 468, 469, 470, 471,\n",
       "        472, 473, 474, 475, 476, 477, 478, 479, 480, 481, 482, 483, 484,\n",
       "        485, 486, 487, 488, 489, 490, 491, 492, 493, 494, 495, 496, 497,\n",
       "        498, 499, 500, 501, 502, 503, 504, 505, 506, 507, 508, 509, 510,\n",
       "        511, 512, 513, 514, 515, 516, 517, 518, 519, 520, 521, 522, 523,\n",
       "        524, 525, 526, 527, 528, 529, 530, 531, 532, 533, 534, 535, 536,\n",
       "        537, 538, 539, 540, 541, 542, 543, 544, 545, 546, 547, 548, 549,\n",
       "        550, 551, 552, 553, 554, 555, 556, 557, 558, 559, 560, 561, 562,\n",
       "        563, 564, 565, 566, 567, 568, 569, 570, 571, 572, 573, 574, 575,\n",
       "        576, 577, 578, 579, 580, 581, 582, 583, 584, 585, 586, 587, 588,\n",
       "        589, 590, 591, 592, 593, 594, 595, 596, 597, 598, 599, 600, 601,\n",
       "        602, 603, 604, 605, 606, 607, 608, 609, 610, 611, 612, 613, 614,\n",
       "        615, 616, 617, 618, 619, 620, 621, 622, 623, 624, 625, 626, 627,\n",
       "        628, 629, 630, 631, 632, 633, 634, 635, 636, 637, 638, 639, 640,\n",
       "        641, 642, 643, 644, 645, 646, 647, 648, 649, 650, 651, 652, 653,\n",
       "        654, 655, 656, 657, 658, 659, 660, 661, 662, 663, 664, 665, 666,\n",
       "        667, 668, 669, 670, 671, 672, 673, 674, 675, 676, 677, 678, 679,\n",
       "        680, 681, 682, 683, 684, 685, 686, 687, 688, 689, 690, 691, 692,\n",
       "        693, 694, 695, 696, 697, 698, 699, 700, 701, 702, 703, 704, 705,\n",
       "        706, 707, 708, 709, 710, 711, 712, 713, 714, 715, 716, 717, 718,\n",
       "        719, 720, 721, 722, 723, 724, 725, 726, 727, 728, 729, 730, 731,\n",
       "        732, 733, 734, 735, 736, 737, 738, 739, 740, 741, 742, 743, 744,\n",
       "        745, 746, 747, 748, 749, 750, 751, 752, 753, 754, 755, 756, 764,\n",
       "        766, 770, 773, 787, 788, 789, 790, 791, 801, 802, 803, 804, 805,\n",
       "        806, 807, 808, 809, 810, 811, 812, 813, 814, 815, 816, 817, 818,\n",
       "        819, 820, 821, 822, 823, 824, 825, 826, 827, 828, 829, 830, 831,\n",
       "        832, 833, 834, 835, 836, 837, 838, 839, 840, 841, 842, 843, 844,\n",
       "        845, 846, 847, 848, 849, 850, 851, 852, 853, 854, 855, 856, 857,\n",
       "        858, 859, 860, 861, 862, 863, 864, 865, 866, 867, 868, 869, 870,\n",
       "        871, 872, 873, 874, 875, 876, 877, 878, 879, 880, 881, 882, 883,\n",
       "        884, 885, 886, 887, 888, 889, 890, 891, 892, 893, 894, 895, 896,\n",
       "        897, 898, 899, 900, 901, 902, 903]),)"
      ]
     },
     "execution_count": 12,
     "metadata": {},
     "output_type": "execute_result"
    }
   ],
   "source": [
    "\n",
    "notnull = np.where(data.Phone_No.notnull())\n",
    "notnull"
   ]
  },
  {
   "cell_type": "code",
   "execution_count": 13,
   "id": "tight-monster",
   "metadata": {},
   "outputs": [],
   "source": [
    "def notnull_links(notnull):\n",
    "    for i in null:\n",
    "        links = data.iloc[i].Url\n",
    "    return links[0:4]    "
   ]
  },
  {
   "cell_type": "code",
   "execution_count": 14,
   "id": "changed-fifth",
   "metadata": {},
   "outputs": [
    {
     "data": {
      "text/plain": [
       "array(['https://www.fundainbusiness.nl/winkel/amsterdam/object-87581924-bilderdijkstraat-77/',\n",
       "       'https://www.fundainbusiness.nl/kantoor/amsterdam/gebouw-87690442-keizersgracht-555/',\n",
       "       'https://www.fundainbusiness.nl/kantoor/amsterdam/gebouw-87728285-kraanspoor-50/',\n",
       "       'https://www.fundainbusiness.nl/kantoor/amsterdam/gebouw-88915997-herengracht-168/'],\n",
       "      dtype=object)"
      ]
     },
     "execution_count": 14,
     "metadata": {},
     "output_type": "execute_result"
    }
   ],
   "source": [
    "notnull_links = np.array(notnull_links(notnull))\n",
    "notnull_links"
   ]
  },
  {
   "cell_type": "code",
   "execution_count": 37,
   "id": "clean-program",
   "metadata": {},
   "outputs": [
    {
     "data": {
      "text/plain": [
       "['',\n",
       " 'tps://www.fundainbusiness.nl/kantoor/amsterdam/gebouw-87690442-keizersgrac',\n",
       " '-555/',\n",
       " 'tps://www.fundainbusiness.nl/winkel/amsterdam/object-87581924-bilderdijkstraat-77/',\n",
       " 'tps://www.fundainbusiness.nl/kantoor/amsterdam/gebouw-87728285-kraanspoor-50/',\n",
       " 'tps://www.fundainbusiness.nl/kantoor/amsterdam/gebouw-87690442-keizersgrac',\n",
       " '-555/',\n",
       " 'tps://www.fundainbusiness.nl/kantoor/amsterdam/gebouw-88915997-herengrac',\n",
       " '-168/',\n",
       " 'tps://www.fundainbusiness.nl/kantoor/amsterdam/gebouw-87728285-kraanspoor-50/',\n",
       " 'tps://www.fundainbusiness.nl/kantoor/amsterdam/gebouw-87618285-weerdestein-97/',\n",
       " 'tps://www.fundainbusiness.nl/kantoor/amsterdam/gebouw-88915997-herengrac',\n",
       " '-168/']"
      ]
     },
     "execution_count": 37,
     "metadata": {},
     "output_type": "execute_result"
    }
   ],
   "source": [
    "url =  ''.join(links+notnull_links).split('ht')\n",
    "url"
   ]
  },
  {
   "cell_type": "code",
   "execution_count": 56,
   "id": "clinical-pittsburgh",
   "metadata": {},
   "outputs": [
    {
     "name": "stdout",
     "output_type": "stream",
     "text": [
      "error\n",
      "https://www.fundainbusiness.nl/kantoor/amsterdam/gebouw-87690442-keizersgrac\n",
      "https://www.fundainbusiness.nl/winkel/amsterdam/object-87581924-bilderdijkstraat-77/\n",
      "https://www.fundainbusiness.nl/kantoor/amsterdam/gebouw-87728285-kraanspoor-50/\n",
      "https://www.fundainbusiness.nl/kantoor/amsterdam/gebouw-87690442-keizersgrac\n",
      "https://www.fundainbusiness.nl/kantoor/amsterdam/gebouw-88915997-herengrac\n",
      "https://www.fundainbusiness.nl/kantoor/amsterdam/gebouw-87728285-kraanspoor-50/\n",
      "https://www.fundainbusiness.nl/kantoor/amsterdam/gebouw-87618285-weerdestein-97/\n",
      "https://www.fundainbusiness.nl/kantoor/amsterdam/gebouw-88915997-herengrac\n"
     ]
    }
   ],
   "source": [
    "urlss = []\n",
    "for u in url:\n",
    "    if u != '':\n",
    "       urls = 'ht' + u\n",
    "       if 'https' in urls:\n",
    "            \n",
    "          print(urls)\n",
    "          urlss.append(urls)\n",
    "    else:\n",
    "        print('error')"
   ]
  },
  {
   "cell_type": "code",
   "execution_count": 57,
   "id": "historic-possibility",
   "metadata": {},
   "outputs": [
    {
     "data": {
      "text/plain": [
       "['https://www.fundainbusiness.nl/kantoor/amsterdam/gebouw-87690442-keizersgrac',\n",
       " 'https://www.fundainbusiness.nl/winkel/amsterdam/object-87581924-bilderdijkstraat-77/',\n",
       " 'https://www.fundainbusiness.nl/kantoor/amsterdam/gebouw-87728285-kraanspoor-50/',\n",
       " 'https://www.fundainbusiness.nl/kantoor/amsterdam/gebouw-87690442-keizersgrac',\n",
       " 'https://www.fundainbusiness.nl/kantoor/amsterdam/gebouw-88915997-herengrac',\n",
       " 'https://www.fundainbusiness.nl/kantoor/amsterdam/gebouw-87728285-kraanspoor-50/',\n",
       " 'https://www.fundainbusiness.nl/kantoor/amsterdam/gebouw-87618285-weerdestein-97/',\n",
       " 'https://www.fundainbusiness.nl/kantoor/amsterdam/gebouw-88915997-herengrac']"
      ]
     },
     "execution_count": 57,
     "metadata": {},
     "output_type": "execute_result"
    }
   ],
   "source": [
    "urlss"
   ]
  },
  {
   "cell_type": "code",
   "execution_count": 65,
   "id": "interstate-public",
   "metadata": {},
   "outputs": [],
   "source": [
    "pd.DataFrame(urlss).to_csv(\"mix_links.csv\", index = False)"
   ]
  },
  {
   "cell_type": "code",
   "execution_count": 70,
   "id": "cleared-processing",
   "metadata": {},
   "outputs": [],
   "source": [
    "mix_data = pd.read_csv('mix_links.csv')"
   ]
  },
  {
   "cell_type": "code",
   "execution_count": 72,
   "id": "anonymous-leonard",
   "metadata": {},
   "outputs": [],
   "source": [
    "mix_data.rename(columns = {\"0\":\"links\"}, inplace = True)"
   ]
  },
  {
   "cell_type": "code",
   "execution_count": null,
   "id": "functional-keyboard",
   "metadata": {},
   "outputs": [],
   "source": []
  },
  {
   "cell_type": "code",
   "execution_count": 74,
   "id": "natural-density",
   "metadata": {},
   "outputs": [
    {
     "data": {
      "text/html": [
       "<div>\n",
       "<style scoped>\n",
       "    .dataframe tbody tr th:only-of-type {\n",
       "        vertical-align: middle;\n",
       "    }\n",
       "\n",
       "    .dataframe tbody tr th {\n",
       "        vertical-align: top;\n",
       "    }\n",
       "\n",
       "    .dataframe thead th {\n",
       "        text-align: right;\n",
       "    }\n",
       "</style>\n",
       "<table border=\"1\" class=\"dataframe\">\n",
       "  <thead>\n",
       "    <tr style=\"text-align: right;\">\n",
       "      <th></th>\n",
       "      <th>links</th>\n",
       "    </tr>\n",
       "  </thead>\n",
       "  <tbody>\n",
       "    <tr>\n",
       "      <th>0</th>\n",
       "      <td>https://www.fundainbusiness.nl/kantoor/amsterd...</td>\n",
       "    </tr>\n",
       "    <tr>\n",
       "      <th>1</th>\n",
       "      <td>https://www.fundainbusiness.nl/winkel/amsterda...</td>\n",
       "    </tr>\n",
       "    <tr>\n",
       "      <th>2</th>\n",
       "      <td>https://www.fundainbusiness.nl/kantoor/amsterd...</td>\n",
       "    </tr>\n",
       "    <tr>\n",
       "      <th>3</th>\n",
       "      <td>https://www.fundainbusiness.nl/kantoor/amsterd...</td>\n",
       "    </tr>\n",
       "    <tr>\n",
       "      <th>4</th>\n",
       "      <td>https://www.fundainbusiness.nl/kantoor/amsterd...</td>\n",
       "    </tr>\n",
       "    <tr>\n",
       "      <th>5</th>\n",
       "      <td>https://www.fundainbusiness.nl/kantoor/amsterd...</td>\n",
       "    </tr>\n",
       "    <tr>\n",
       "      <th>6</th>\n",
       "      <td>https://www.fundainbusiness.nl/kantoor/amsterd...</td>\n",
       "    </tr>\n",
       "    <tr>\n",
       "      <th>7</th>\n",
       "      <td>https://www.fundainbusiness.nl/kantoor/amsterd...</td>\n",
       "    </tr>\n",
       "  </tbody>\n",
       "</table>\n",
       "</div>"
      ],
      "text/plain": [
       "                                               links\n",
       "0  https://www.fundainbusiness.nl/kantoor/amsterd...\n",
       "1  https://www.fundainbusiness.nl/winkel/amsterda...\n",
       "2  https://www.fundainbusiness.nl/kantoor/amsterd...\n",
       "3  https://www.fundainbusiness.nl/kantoor/amsterd...\n",
       "4  https://www.fundainbusiness.nl/kantoor/amsterd...\n",
       "5  https://www.fundainbusiness.nl/kantoor/amsterd...\n",
       "6  https://www.fundainbusiness.nl/kantoor/amsterd...\n",
       "7  https://www.fundainbusiness.nl/kantoor/amsterd..."
      ]
     },
     "execution_count": 74,
     "metadata": {},
     "output_type": "execute_result"
    }
   ],
   "source": [
    "mix_data"
   ]
  },
  {
   "cell_type": "code",
   "execution_count": 77,
   "id": "southern-choice",
   "metadata": {},
   "outputs": [
    {
     "data": {
      "text/html": [
       "<div>\n",
       "<style scoped>\n",
       "    .dataframe tbody tr th:only-of-type {\n",
       "        vertical-align: middle;\n",
       "    }\n",
       "\n",
       "    .dataframe tbody tr th {\n",
       "        vertical-align: top;\n",
       "    }\n",
       "\n",
       "    .dataframe thead th {\n",
       "        text-align: right;\n",
       "    }\n",
       "</style>\n",
       "<table border=\"1\" class=\"dataframe\">\n",
       "  <thead>\n",
       "    <tr style=\"text-align: right;\">\n",
       "      <th></th>\n",
       "      <th>links</th>\n",
       "    </tr>\n",
       "  </thead>\n",
       "  <tbody>\n",
       "    <tr>\n",
       "      <th>0</th>\n",
       "      <td>https://www.fundainbusiness.nl/kantoor/amsterd...</td>\n",
       "    </tr>\n",
       "    <tr>\n",
       "      <th>1</th>\n",
       "      <td>https://www.fundainbusiness.nl/winkel/amsterda...</td>\n",
       "    </tr>\n",
       "    <tr>\n",
       "      <th>2</th>\n",
       "      <td>https://www.fundainbusiness.nl/kantoor/amsterd...</td>\n",
       "    </tr>\n",
       "    <tr>\n",
       "      <th>3</th>\n",
       "      <td>https://www.fundainbusiness.nl/kantoor/amsterd...</td>\n",
       "    </tr>\n",
       "    <tr>\n",
       "      <th>4</th>\n",
       "      <td>https://www.fundainbusiness.nl/kantoor/amsterd...</td>\n",
       "    </tr>\n",
       "    <tr>\n",
       "      <th>5</th>\n",
       "      <td>https://www.fundainbusiness.nl/kantoor/amsterd...</td>\n",
       "    </tr>\n",
       "    <tr>\n",
       "      <th>6</th>\n",
       "      <td>https://www.fundainbusiness.nl/kantoor/amsterd...</td>\n",
       "    </tr>\n",
       "    <tr>\n",
       "      <th>7</th>\n",
       "      <td>https://www.fundainbusiness.nl/kantoor/amsterd...</td>\n",
       "    </tr>\n",
       "  </tbody>\n",
       "</table>\n",
       "</div>"
      ],
      "text/plain": [
       "                                               links\n",
       "0  https://www.fundainbusiness.nl/kantoor/amsterd...\n",
       "1  https://www.fundainbusiness.nl/winkel/amsterda...\n",
       "2  https://www.fundainbusiness.nl/kantoor/amsterd...\n",
       "3  https://www.fundainbusiness.nl/kantoor/amsterd...\n",
       "4  https://www.fundainbusiness.nl/kantoor/amsterd...\n",
       "5  https://www.fundainbusiness.nl/kantoor/amsterd...\n",
       "6  https://www.fundainbusiness.nl/kantoor/amsterd...\n",
       "7  https://www.fundainbusiness.nl/kantoor/amsterd..."
      ]
     },
     "execution_count": 77,
     "metadata": {},
     "output_type": "execute_result"
    }
   ],
   "source": [
    "df = pd.DataFrame(mix_data)\n",
    "df"
   ]
  },
  {
   "cell_type": "code",
   "execution_count": 78,
   "id": "standing-villa",
   "metadata": {},
   "outputs": [],
   "source": [
    "df.to_csv('mix_data.csv', index = False)"
   ]
  },
  {
   "cell_type": "code",
   "execution_count": 79,
   "id": "hazardous-person",
   "metadata": {},
   "outputs": [],
   "source": [
    "mix_data = pd.read_csv('mix_data.csv')"
   ]
  },
  {
   "cell_type": "code",
   "execution_count": 80,
   "id": "standard-print",
   "metadata": {},
   "outputs": [
    {
     "data": {
      "text/html": [
       "<div>\n",
       "<style scoped>\n",
       "    .dataframe tbody tr th:only-of-type {\n",
       "        vertical-align: middle;\n",
       "    }\n",
       "\n",
       "    .dataframe tbody tr th {\n",
       "        vertical-align: top;\n",
       "    }\n",
       "\n",
       "    .dataframe thead th {\n",
       "        text-align: right;\n",
       "    }\n",
       "</style>\n",
       "<table border=\"1\" class=\"dataframe\">\n",
       "  <thead>\n",
       "    <tr style=\"text-align: right;\">\n",
       "      <th></th>\n",
       "      <th>links</th>\n",
       "    </tr>\n",
       "  </thead>\n",
       "  <tbody>\n",
       "    <tr>\n",
       "      <th>0</th>\n",
       "      <td>https://www.fundainbusiness.nl/kantoor/amsterd...</td>\n",
       "    </tr>\n",
       "    <tr>\n",
       "      <th>1</th>\n",
       "      <td>https://www.fundainbusiness.nl/winkel/amsterda...</td>\n",
       "    </tr>\n",
       "    <tr>\n",
       "      <th>2</th>\n",
       "      <td>https://www.fundainbusiness.nl/kantoor/amsterd...</td>\n",
       "    </tr>\n",
       "    <tr>\n",
       "      <th>3</th>\n",
       "      <td>https://www.fundainbusiness.nl/kantoor/amsterd...</td>\n",
       "    </tr>\n",
       "    <tr>\n",
       "      <th>4</th>\n",
       "      <td>https://www.fundainbusiness.nl/kantoor/amsterd...</td>\n",
       "    </tr>\n",
       "    <tr>\n",
       "      <th>5</th>\n",
       "      <td>https://www.fundainbusiness.nl/kantoor/amsterd...</td>\n",
       "    </tr>\n",
       "    <tr>\n",
       "      <th>6</th>\n",
       "      <td>https://www.fundainbusiness.nl/kantoor/amsterd...</td>\n",
       "    </tr>\n",
       "    <tr>\n",
       "      <th>7</th>\n",
       "      <td>https://www.fundainbusiness.nl/kantoor/amsterd...</td>\n",
       "    </tr>\n",
       "  </tbody>\n",
       "</table>\n",
       "</div>"
      ],
      "text/plain": [
       "                                               links\n",
       "0  https://www.fundainbusiness.nl/kantoor/amsterd...\n",
       "1  https://www.fundainbusiness.nl/winkel/amsterda...\n",
       "2  https://www.fundainbusiness.nl/kantoor/amsterd...\n",
       "3  https://www.fundainbusiness.nl/kantoor/amsterd...\n",
       "4  https://www.fundainbusiness.nl/kantoor/amsterd...\n",
       "5  https://www.fundainbusiness.nl/kantoor/amsterd...\n",
       "6  https://www.fundainbusiness.nl/kantoor/amsterd...\n",
       "7  https://www.fundainbusiness.nl/kantoor/amsterd..."
      ]
     },
     "execution_count": 80,
     "metadata": {},
     "output_type": "execute_result"
    }
   ],
   "source": [
    "mix_data"
   ]
  },
  {
   "cell_type": "code",
   "execution_count": 81,
   "id": "excess-delaware",
   "metadata": {},
   "outputs": [
    {
     "data": {
      "text/html": [
       "<div>\n",
       "<style scoped>\n",
       "    .dataframe tbody tr th:only-of-type {\n",
       "        vertical-align: middle;\n",
       "    }\n",
       "\n",
       "    .dataframe tbody tr th {\n",
       "        vertical-align: top;\n",
       "    }\n",
       "\n",
       "    .dataframe thead th {\n",
       "        text-align: right;\n",
       "    }\n",
       "</style>\n",
       "<table border=\"1\" class=\"dataframe\">\n",
       "  <thead>\n",
       "    <tr style=\"text-align: right;\">\n",
       "      <th></th>\n",
       "      <th>Name</th>\n",
       "      <th>Url</th>\n",
       "      <th>Description</th>\n",
       "      <th>key_features</th>\n",
       "      <th>area_features</th>\n",
       "      <th>cordinates</th>\n",
       "      <th>Images</th>\n",
       "      <th>Phone_No</th>\n",
       "    </tr>\n",
       "  </thead>\n",
       "  <tbody>\n",
       "    <tr>\n",
       "      <th>0</th>\n",
       "      <td>Bilderdijkstraat 77</td>\n",
       "      <td>https://www.fundainbusiness.nl/winkel/amsterda...</td>\n",
       "      <td>The Gallery Salon  Studios  is een  concept da...</td>\n",
       "      <td>[{'Huurprijs': '€ 1.090 per maand', 'Aangebode...</td>\n",
       "      <td>[{'Hoofdfunctie': 'Winkel', 'Mogelijke functie...</td>\n",
       "      <td>{'latitude': 52.36968, 'longitude': 4.870837}</td>\n",
       "      <td>https://cloud.funda.nl/valentina_media/141/945...</td>\n",
       "      <td>NaN</td>\n",
       "    </tr>\n",
       "    <tr>\n",
       "      <th>1</th>\n",
       "      <td>Regus Amsterdam Kraanspoor</td>\n",
       "      <td>https://www.fundainbusiness.nl/kantoor/amsterd...</td>\n",
       "      <td>Een unieke werkplek  boven  de rivier  de IJNe...</td>\n",
       "      <td>[{'Huurprijs': 'Vanaf € 896 /mnd', 'Servicekos...</td>\n",
       "      <td>[{'Hoofdfunctie': 'Kantoor'}]</td>\n",
       "      <td>{'latitude': 52.40409, 'longitude': 4.886703}</td>\n",
       "      <td>https://cloud.funda.nl/valentina_media/141/771...</td>\n",
       "      <td>NaN</td>\n",
       "    </tr>\n",
       "    <tr>\n",
       "      <th>2</th>\n",
       "      <td>Weerdestein</td>\n",
       "      <td>https://www.fundainbusiness.nl/kantoor/amsterd...</td>\n",
       "      <td>In het kantoorpand  zijn  modern ingerichte  k...</td>\n",
       "      <td>[{'Huurprijs': 'Vanaf € 199 /mnd incl. service...</td>\n",
       "      <td>[{'Hoofdfunctie': 'Kantoor'}]</td>\n",
       "      <td>{'latitude': 52.33092, 'longitude': 4.888261}</td>\n",
       "      <td>https://cloud.funda.nl/valentina_media/138/647...</td>\n",
       "      <td>NaN</td>\n",
       "    </tr>\n",
       "    <tr>\n",
       "      <th>3</th>\n",
       "      <td>Spaces Keizersgracht</td>\n",
       "      <td>https://www.fundainbusiness.nl/kantoor/amsterd...</td>\n",
       "      <td>SPACES KEIZERSGRACHT IS  EEN  KUNSTWERK.Midden...</td>\n",
       "      <td>[{'Huurprijs': 'Vanaf € 282 /mnd incl. service...</td>\n",
       "      <td>[{'Hoofdfunctie': 'Kantoor'}]</td>\n",
       "      <td>{'latitude': 52.36443, 'longitude': 4.890014}</td>\n",
       "      <td>https://cloud.funda.nl/valentina_media/140/466...</td>\n",
       "      <td>NaN</td>\n",
       "    </tr>\n",
       "    <tr>\n",
       "      <th>4</th>\n",
       "      <td>Mindspace - Herengracht</td>\n",
       "      <td>https://www.fundainbusiness.nl/kantoor/amsterd...</td>\n",
       "      <td>Mindspace Herengracht is  gelegen  in een  aut...</td>\n",
       "      <td>[{'Huurprijs': 'Vanaf € 3.500 /mnd incl. servi...</td>\n",
       "      <td>[{'Hoofdfunctie': 'Kantoor'}]</td>\n",
       "      <td>{'latitude': 52.3742, 'longitude': 4.886919}</td>\n",
       "      <td>https://cloud.funda.nl/valentina_media/149/887...</td>\n",
       "      <td>NaN</td>\n",
       "    </tr>\n",
       "  </tbody>\n",
       "</table>\n",
       "</div>"
      ],
      "text/plain": [
       "                         Name  \\\n",
       "0         Bilderdijkstraat 77   \n",
       "1  Regus Amsterdam Kraanspoor   \n",
       "2                 Weerdestein   \n",
       "3        Spaces Keizersgracht   \n",
       "4     Mindspace - Herengracht   \n",
       "\n",
       "                                                 Url  \\\n",
       "0  https://www.fundainbusiness.nl/winkel/amsterda...   \n",
       "1  https://www.fundainbusiness.nl/kantoor/amsterd...   \n",
       "2  https://www.fundainbusiness.nl/kantoor/amsterd...   \n",
       "3  https://www.fundainbusiness.nl/kantoor/amsterd...   \n",
       "4  https://www.fundainbusiness.nl/kantoor/amsterd...   \n",
       "\n",
       "                                         Description  \\\n",
       "0  The Gallery Salon  Studios  is een  concept da...   \n",
       "1  Een unieke werkplek  boven  de rivier  de IJNe...   \n",
       "2  In het kantoorpand  zijn  modern ingerichte  k...   \n",
       "3  SPACES KEIZERSGRACHT IS  EEN  KUNSTWERK.Midden...   \n",
       "4  Mindspace Herengracht is  gelegen  in een  aut...   \n",
       "\n",
       "                                        key_features  \\\n",
       "0  [{'Huurprijs': '€ 1.090 per maand', 'Aangebode...   \n",
       "1  [{'Huurprijs': 'Vanaf € 896 /mnd', 'Servicekos...   \n",
       "2  [{'Huurprijs': 'Vanaf € 199 /mnd incl. service...   \n",
       "3  [{'Huurprijs': 'Vanaf € 282 /mnd incl. service...   \n",
       "4  [{'Huurprijs': 'Vanaf € 3.500 /mnd incl. servi...   \n",
       "\n",
       "                                       area_features  \\\n",
       "0  [{'Hoofdfunctie': 'Winkel', 'Mogelijke functie...   \n",
       "1                      [{'Hoofdfunctie': 'Kantoor'}]   \n",
       "2                      [{'Hoofdfunctie': 'Kantoor'}]   \n",
       "3                      [{'Hoofdfunctie': 'Kantoor'}]   \n",
       "4                      [{'Hoofdfunctie': 'Kantoor'}]   \n",
       "\n",
       "                                      cordinates  \\\n",
       "0  {'latitude': 52.36968, 'longitude': 4.870837}   \n",
       "1  {'latitude': 52.40409, 'longitude': 4.886703}   \n",
       "2  {'latitude': 52.33092, 'longitude': 4.888261}   \n",
       "3  {'latitude': 52.36443, 'longitude': 4.890014}   \n",
       "4   {'latitude': 52.3742, 'longitude': 4.886919}   \n",
       "\n",
       "                                              Images  Phone_No  \n",
       "0  https://cloud.funda.nl/valentina_media/141/945...       NaN  \n",
       "1  https://cloud.funda.nl/valentina_media/141/771...       NaN  \n",
       "2  https://cloud.funda.nl/valentina_media/138/647...       NaN  \n",
       "3  https://cloud.funda.nl/valentina_media/140/466...       NaN  \n",
       "4  https://cloud.funda.nl/valentina_media/149/887...       NaN  "
      ]
     },
     "execution_count": 81,
     "metadata": {},
     "output_type": "execute_result"
    }
   ],
   "source": [
    "new_data = pd.read_csv('fundatest.csv')\n",
    "new_data"
   ]
  },
  {
   "cell_type": "code",
   "execution_count": null,
   "id": "designed-channel",
   "metadata": {},
   "outputs": [],
   "source": []
  }
 ],
 "metadata": {
  "kernelspec": {
   "display_name": "Python 3",
   "language": "python",
   "name": "python3"
  },
  "language_info": {
   "codemirror_mode": {
    "name": "ipython",
    "version": 3
   },
   "file_extension": ".py",
   "mimetype": "text/x-python",
   "name": "python",
   "nbconvert_exporter": "python",
   "pygments_lexer": "ipython3",
   "version": "3.8.10"
  }
 },
 "nbformat": 4,
 "nbformat_minor": 5
}
